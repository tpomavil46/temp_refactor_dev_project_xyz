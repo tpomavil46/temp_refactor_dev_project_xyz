{
 "cells": [
  {
   "cell_type": "code",
   "execution_count": null,
   "metadata": {
    "pycharm": {
     "is_executing": true
    }
   },
   "outputs": [],
   "source": [
    "from seeq import spy\n",
    "\n",
    "# Set the compatibility option so that you maximize the chance that SPy will remain compatible with your notebook/script\n",
    "spy.options.compatibility = 193"
   ]
  },
  {
   "cell_type": "markdown",
   "metadata": {},
   "source": [
    "# spy.login\n",
    "\n",
    "Logs into a Seeq Server with a set of credentials. This command is necessary if you are using the SPy module with your own installation of Jupyter, or with hosted Jupyter Notebook services like AWS SageMaker or Azure Notebooks.\n",
    "\n",
    "*Note: In Seeq Data Lab, you will log in using the normal Seeq Server landing page and your credentials will be used by the SPy module directly.*"
   ]
  },
  {
   "cell_type": "markdown",
   "metadata": {},
   "source": [
    "`spy.login(username=None, password=None, url=None, auth_provider='Seeq', ignore_ssl_errors=False, credentials_file=None)`"
   ]
  },
  {
   "cell_type": "markdown",
   "metadata": {},
   "source": [
    "## Specifying Seeq Server URL and credentials\n",
    "\n",
    "If you are not using Seeq Data Lab, you must specify the URL of the server. You can just copy the URL directly out of the browser's address box and use it. For example: `http://seeqserver:34216` or `https://mycompany.seeq.site`.\n",
    "\n",
    "You can choose to embed your credentials directly into the notebook using the `username` and `password` fields, or you can choose to specify `credentials_file` that is read from disk (username on first line, password on second line). Note that the credentials file is not secure: It just allows you to share your notebook without also supplying your credentials."
   ]
  },
  {
   "cell_type": "code",
   "execution_count": null,
   "metadata": {
    "pycharm": {
     "is_executing": true
    }
   },
   "outputs": [],
   "source": [
    "spy.login(url='http://localhost:34216', username='mark.derbecker@seeq.com', password='DataLab!')"
   ]
  },
  {
   "cell_type": "markdown",
   "metadata": {},
   "source": [
    "## Authentication Directories\n",
    "\n",
    "If your organization is configured to use LDAP or Windows Authentication where you have a corporate username and password, it may be necessary to specify the *authentication directory*. This is the name seen in the **Directory** dropdown on the Seeq login page, use it for the `directory` argument like so:"
   ]
  },
  {
   "cell_type": "code",
   "execution_count": null,
   "metadata": {},
   "outputs": [],
   "source": [
    "spy.login(url='http://localhost:34216', username='mark.derbecker@seeq.com', password='DataLab!', directory='Seeq')"
   ]
  },
  {
   "cell_type": "markdown",
   "metadata": {},
   "source": [
    "## Access Keys\n",
    "\n",
    "If your organization uses OAuth 2 (e.g. Azure ActiveDirectory) single sign-on or password-less (e.g. smart card-based) Windows Authentication, you will need to use an Access Key to log in. Please read the [Access Key documentation](https://telemetry.seeq.com/support-link/kb/latest/cloud/working-with-access-keys) for information on how to create one. Once you have created the Access Key, use it like so:"
   ]
  },
  {
   "cell_type": "code",
   "execution_count": null,
   "metadata": {},
   "outputs": [],
   "source": [
    "spy.login(url='http://localhost:34216', access_key='LNXqmeT5SX-PA-grV7-IfQ', password='Wma3XlW6CM3c4Y2X8UiQnbcDYUwaEh')"
   ]
  },
  {
   "cell_type": "markdown",
   "metadata": {},
   "source": [
    "In Seeq Server **R22.0.49.XX and earlier**, the Access Key is only valid for a set amount of time as specified in the server _Administation_ page's _Configuration_ tab, specifically the `Authentication/AccessKey/ValidityWithoutUserLogin` setting. The default is 1 day. The **validity time is measured from the time of last login**. If you have not logged out (it's important that you log out!) and then log back in to Seeq Workbench within the specified timeframe, you will need to do so to \"reset\" the validity period.\n",
    "\n",
    "In Seeq Server **R50.0.0 and later**, the Access Key validity period is more lenient. The validity expiration time is measured from the time that you closed all your active Seeq Workbench browser tabs. In other words, if you keep a Seeq Workbench tab open somewhere, your access key will remain valid, and once you close your tab, it will still remain valid for the time specified in the setting described above.\n",
    "\n",
    "If you wish to use an Access Key in conjunction with `credentials_file`, put the Access Key on the first line and the Password on the second line."
   ]
  },
  {
   "cell_type": "markdown",
   "metadata": {},
   "source": [
    "## SSL Errors\n",
    "\n",
    "If you are using a secure connection (https), the root certificate in the SSL certificate chain used by the Seeq Server must be recognized by the Python `certifi` library. If not, you'll need to add `ignore_ssl_errors=True` with your `spy.login` call. Be warned that this will mean your connection is potentially insecure and vulnerable to man-in-the-middle attacks.\n",
    "\n",
    "If you are using Seeq Data Lab, you can potentially put the `seeq-key.pem` and `seeq-cert.pem` files from Seeq Server in Seeq Data Lab's `<global_folder>/keys` folder. The certificate file must contain the full unbroken certificate chain in order to work correctly."
   ]
  },
  {
   "cell_type": "markdown",
   "metadata": {},
   "source": [
    "## Proxy Servers\n",
    "\n",
    "If your organization uses a proxy server for Internet access, SPy will automatically look at the `HTTP_PROXY` and `HTTPS_PROXY` environment variables and use them if specified. Alternatively, you can supply an argument like `proxy='http://myproxyserver:8088'` to your `spy.login` call to specify it directly. If you specify `proxy=None`, then the `HTTP_PROXY` and `HTTPS_PROXY` environment variables will be ignored."
   ]
  },
  {
   "cell_type": "markdown",
   "metadata": {},
   "source": [
    "## Detailed Help\n",
    "\n",
    "All SPy functions have detailed documentation to help you use them. Just execute `help(spy.<func>)` like\n",
    "you see below.\n",
    "\n",
    "**Make sure you re-execute the cell below to see the latest documentation. It otherwise might be from an\n",
    "earlier version of SPy.**"
   ]
  },
  {
   "cell_type": "code",
   "execution_count": 2,
   "metadata": {},
   "outputs": [
    {
     "name": "stdout",
     "output_type": "stream",
     "text": [
      "Help on function login in module seeq.spy._login:\n",
      "\n",
      "login(username=None, password=None, *, access_key=None, url=None, directory='Seeq', ignore_ssl_errors=False, proxy='__auto__', credentials_file=None, force=True, quiet=False, status=None, session: seeq.spy._session.Session = None, private_url=None, auth_token=None, csrf_token=None)\n",
      "    Establishes a connection with Seeq Server and logs in with a set of\n",
      "    credentials. At least one set of credentials must be provided.\n",
      "    Applicable credential sets are:\n",
      "        - username + password (where username is in \"Seeq\" user directory)\n",
      "        - username + password + directory\n",
      "        - access_key + password\n",
      "        - credentials_file (where username is in \"Seeq\" user directory)\n",
      "        - credentials_file + directory\n",
      "    \n",
      "    Parameters\n",
      "    ----------\n",
      "    username : str, optional\n",
      "        Username for login purposes. See credentials_file argument for\n",
      "        alternative.\n",
      "    \n",
      "    password : str, optional\n",
      "        Password for login purposes. See credentials_file argument for\n",
      "        alternative.\n",
      "    \n",
      "    access_key: str, optional\n",
      "        Access Key for login purposes. Access Keys are created by individual\n",
      "        users via the Seeq user interface in the upper-right user profile\n",
      "        menu. An Access Key has an associated password that is presented\n",
      "        to the user (once!) upon creation of the Access Key, and it must be\n",
      "        supplied via the \"password\" argument. The \"directory\" argument must\n",
      "        NOT be supplied.\n",
      "    \n",
      "    url : str, default 'http://localhost:34216'\n",
      "        Seeq Server url. You can copy this from your browser and cut off\n",
      "        everything to the right of the port (if present).\n",
      "        E.g. https://myseeqserver:34216\n",
      "    \n",
      "    directory : str, default 'Seeq'\n",
      "        The authentication directory to use. You must be able to supply a\n",
      "        username/password, so some passwordless Windows Authentication\n",
      "        (NTLM) scenarios will not work. OpenID Connect is also not\n",
      "        supported. If you need to use such authentication schemes, set up\n",
      "        a Seeq Data Lab server.\n",
      "    \n",
      "    ignore_ssl_errors : bool, default False\n",
      "        If True, SSL certificate validation errors are ignored. Use this\n",
      "        if you're in a trusted network environment but Seeq Server's SSL\n",
      "        certificate is not from a common root authority.\n",
      "    \n",
      "    proxy : str, default '__auto__'\n",
      "        Specifies the proxy server to use for all requests. The default\n",
      "        value is \"__auto__\", which examines the standard HTTP_PROXY and\n",
      "        HTTPS_PROXY environment variables. If you specify None for this\n",
      "        parameter, no proxy server will be used.\n",
      "    \n",
      "    credentials_file : str, optional\n",
      "        Reads username and password from the specified file. If specified, the\n",
      "        file should be plane text and contain two lines, the first line being\n",
      "        the username, the second being the user's password.\n",
      "    \n",
      "    force : str, default True\n",
      "        If True, re-logs in even if already already logged in. If False, skips\n",
      "        login if already logged in. You should include a spy.login(force=False)\n",
      "        cell if you are creating example notebooks that may be used in Jupyter\n",
      "        environments like Anaconda, AWS SageMaker or Azure Notebooks.)\n",
      "    \n",
      "    quiet : bool, default False\n",
      "        If True, suppresses progress output. Note that when status is\n",
      "        provided, the quiet setting of the Status object that is passed\n",
      "        in takes precedence.\n",
      "    \n",
      "    status : spy.Status, optional\n",
      "        If supplied, this Status object will be updated as the command\n",
      "        progresses.\n",
      "    \n",
      "    session : spy.Session, optional\n",
      "        If supplied, the Session object (and its Options) will be used to\n",
      "        store the login session state. This is useful to log in to different\n",
      "        Seeq servers at the same time or with different credentials.\n",
      "    \n",
      "    private_url : str\n",
      "        If supplied, this will be the URL used for communication with the Seeq\n",
      "        Server API over private networks.  Generally for internal use only.\n",
      "    \n",
      "    auth_token : str\n",
      "        Private argument for Data Lab use only.\n",
      "    \n",
      "    csrf_token : str\n",
      "        Private argument for Data Lab use only.\n",
      "    \n",
      "    Examples\n",
      "    --------\n",
      "    Log in to two different servers at the same time:\n",
      "    \n",
      "    >>> session1 = Session()\n",
      "    >>> session2 = Session()\n",
      "    >>> spy.login(url='https://server1.seeq.site', username='mark', password='markpassword', session=session1)\n",
      "    >>> spy.login(url='https://server2.seeq.site', username='alex', password='alexpassword', session=session2)\n",
      "\n"
     ]
    }
   ],
   "source": [
    "help(spy.login)"
   ]
  }
 ],
 "metadata": {
  "kernelspec": {
   "display_name": "Python 3.11",
   "language": "python",
   "name": "python311"
  },
  "language_info": {
   "codemirror_mode": {
    "name": "ipython",
    "version": 3
   },
   "file_extension": ".py",
   "mimetype": "text/x-python",
   "name": "python",
   "nbconvert_exporter": "python",
   "pygments_lexer": "ipython3",
   "version": "3.11.9"
  }
 },
 "nbformat": 4,
 "nbformat_minor": 4
}
